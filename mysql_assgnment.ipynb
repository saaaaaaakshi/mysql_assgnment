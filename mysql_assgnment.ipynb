{
 "cells": [
  {
   "cell_type": "code",
   "execution_count": 1,
   "id": "8bf54081-b9d8-4c14-b690-deeff22cc347",
   "metadata": {},
   "outputs": [],
   "source": [
    "# MY SQL ASSIGNMENT"
   ]
  },
  {
   "cell_type": "code",
   "execution_count": 3,
   "id": "4600f804-33ac-4978-83b8-ec74467c6542",
   "metadata": {},
   "outputs": [
    {
     "data": {
      "text/plain": [
       "''"
      ]
     },
     "execution_count": 3,
     "metadata": {},
     "output_type": "execute_result"
    }
   ],
   "source": [
    "#ans1 \n",
    "\"\"\"\n",
    "A database is an organized collection of structured information, or data, typically stored electronically in a computer system. \n",
    "A database is usually controlled by a database management system (DBMS).\n",
    "\n",
    "1.SQL pronounced as “S-Q-L” or as “See-Quel” is primarily called RDBMS or Relational Databases, \n",
    "whereas NoSQL is a Non-relational or Distributed Database.\n",
    "2.Comparing SQL vs NoSQL databases, SQL databases are table-based databases, \n",
    "whereas NoSQL databases can be document-based, key-value pairs, and graph databases.\n",
    "3.SQL databases have a predefined schema, whereas NoSQL databases use a dynamic schema for unstructured data.\n",
    "4.Comparing NoSQL vs SQL performance, SQL requires specialized DB hardware for better performance while NoSQL uses commodity hardware.\n",
    "\n",
    "\"\"\"\n",
    "\"\"\"\"\"\"\n"
   ]
  },
  {
   "cell_type": "code",
   "execution_count": 2,
   "id": "d594a114-f8d1-421b-bc7a-c84078c178d0",
   "metadata": {},
   "outputs": [
    {
     "data": {
      "text/plain": [
       "''"
      ]
     },
     "execution_count": 2,
     "metadata": {},
     "output_type": "execute_result"
    }
   ],
   "source": [
    "#ans2\n",
    "\"\"\"\n",
    "Data Definition Language(DDL) is a subset of SQL and a part of DBMS(Database Management System). DDL consist of Commands  \n",
    "like CREATE, ALTER, TRUNCATE and DROP. \n",
    "These commands are used to create or modify the tables in SQL.\n",
    "\n",
    "\"\"\"\n",
    "\"\"\"\n",
    "CREATE :\n",
    "This command is used to create a new table in SQL. The user has to give information like table name, column names, and their datatypes.\n",
    "  Syntax\n",
    "  \n",
    "  CREATE TABLE table_name\n",
    "  (\n",
    "    column_1 datatype,\n",
    "    column_2 datatype,\n",
    "    column_3 datatype,\n",
    "    ....\n",
    "  );\n",
    "\"\"\"\n",
    "\"\"\"\n",
    "ALTER :\n",
    "This command is used to add, delete or change columns in the existing table. The user needs to know the existing table name\n",
    "and can do add, delete or modify tasks easily.\n",
    "  Syntax\n",
    "  \n",
    "  ALTER TABLE table_name\n",
    "  ADD column_name datatype;\n",
    "\n",
    "\"\"\"\n",
    "\"\"\"\n",
    "TRUNCATE :\n",
    "This command is used to remove all rows from the table, but the structure of the table still exists.\n",
    "\n",
    "   Syntax –\n",
    "     TRUNCATE TABLE table_name;\n",
    "     \n",
    "\"\"\"\n",
    "\"\"\"\n",
    "DROP :\n",
    "This command is used to remove an existing table along with its structure from the Database.\n",
    "\n",
    "   Syntax –\n",
    "      DROP TABLE table_name;\n",
    "\"\"\"\n",
    "\"\"\"\"\"\""
   ]
  },
  {
   "cell_type": "code",
   "execution_count": 3,
   "id": "58fc1f5b-5e52-4fde-afb3-4d25d596c2a1",
   "metadata": {},
   "outputs": [
    {
     "data": {
      "text/plain": [
       "''"
      ]
     },
     "execution_count": 3,
     "metadata": {},
     "output_type": "execute_result"
    }
   ],
   "source": [
    "#ans 3\n",
    "\"\"\"\n",
    "The structured query language (SQL) commands deal with the manipulation of data present in the database\n",
    "that belongs to the DML or Data Manipulation Language.\"\"\"\n",
    "\n",
    "\n",
    "\"\"\"\n",
    "INSERT\n",
    "\n",
    "Insert command is used to insert data into a table.\n",
    "The syntax for insert command is as follows −\n",
    "\n",
    "   SYNTAX -\n",
    "        Insert into table_name (column list) values (column values);\n",
    "\n",
    "\"\"\"\n",
    "\"\"\"\n",
    "DELETE\n",
    "Delete command is used to delete records from a database table.\n",
    "The syntax for the delete command is as follows -\n",
    "\n",
    "   SYNTAX -\n",
    "       Delete from <table_name> WHERE condition;\n",
    "\"\"\"\n",
    "\n",
    "\"\"\"\n",
    "UPDATE\n",
    "\n",
    "Update command is used to update existing data within a table.\n",
    "\n",
    "Example\n",
    "\n",
    "UPDATE Employee SET Emp_name= Ram WHERE Emp_id= 001;\n",
    "\"\"\"\n",
    "\"\"\"\"\"\"\n",
    "\n"
   ]
  },
  {
   "cell_type": "code",
   "execution_count": 1,
   "id": "eca19732-a5ac-4746-a41a-49273ba69dcb",
   "metadata": {},
   "outputs": [
    {
     "data": {
      "text/plain": [
       "''"
      ]
     },
     "execution_count": 1,
     "metadata": {},
     "output_type": "execute_result"
    }
   ],
   "source": [
    "#ans 4\n",
    "\n",
    "\"\"\"\n",
    "DQL stands for data query language.It is also a SQL statement that is used to get the data from the given database \n",
    "and apply order to it. The SELECT statement is used in the DQL command. With the SELECT command, we can get the data\n",
    "from the database and manipulate it as we want. \n",
    "\n",
    "In the SELECT command, either we can show all the columns, or we can get some specific columns in the result\n",
    "of the query according to the clause we use in the statement. \n",
    "\n",
    "\"\"\"\n",
    "\n",
    "\"\"\"\n",
    "SYNTAX-\n",
    "\n",
    "SELECT <column-list>FROM<table-name>;\n",
    "To view all the fields and rows of the table the SELECT command can be given as SELECT * FROM Tablename;\n",
    "\n",
    "\"\"\"\n",
    "\"\"\"\"\"\"\n"
   ]
  },
  {
   "cell_type": "code",
   "execution_count": 3,
   "id": "be01f017-7dee-41a3-a512-e2c29d07f3ef",
   "metadata": {},
   "outputs": [
    {
     "data": {
      "text/plain": [
       "''"
      ]
     },
     "execution_count": 3,
     "metadata": {},
     "output_type": "execute_result"
    }
   ],
   "source": [
    "#ans5\n",
    "\n",
    "\"\"\"\n",
    "A primary key is used to ensure data in the specific column is unique.It uniquely identifies a record in the relational database table.\n",
    "Only one primary key is allowed in a table.It is a combination of UNIQUE and Not Null constraints.\n",
    "It does not allow NULL values.Its value cannot be deleted from the parent table.\n",
    "\n",
    "\"\"\"\n",
    "\"\"\"\n",
    "A foreign key is generally used to build a relationship between the two tables.Tables can allow more than one foreign key.\n",
    "A foreign key is a field in the table that is the primary key in another table.\n",
    "\n",
    "\"\"\"\n",
    "\"\"\"\"\"\"\n",
    "\n"
   ]
  },
  {
   "cell_type": "code",
   "execution_count": 3,
   "id": "0ea8e7ab-e504-4a7a-b4d7-3035266013f1",
   "metadata": {},
   "outputs": [
    {
     "data": {
      "text/plain": [
       "''"
      ]
     },
     "execution_count": 3,
     "metadata": {},
     "output_type": "execute_result"
    }
   ],
   "source": [
    "#ans6\n",
    "\"\"\"\n",
    "import mysql.connector\n",
    "mydb=mysql.connector.connect(\n",
    "    host=\"localhost\",\n",
    "    user=\"abc\",\n",
    "    password=\"password\"\n",
    ")\n",
    "print(mydb)\n",
    "mycursor=mydb.cursor()\n",
    "mycursor.execute(\"CREATE DATABASE if not exists test1\")\n",
    "mydb.close()\n",
    "\n",
    "\"\"\"\n",
    "\"\"\"\n",
    "cursor()\n",
    "The MySQLCursor of mysql-connector-python (and similar libraries) is used to execute statements \n",
    "to communicate with the MySQL database.\n",
    "\n",
    "execute()\n",
    "\n",
    "This method accepts a MySQL query as a parameter and executes the given query.\n",
    "\"\"\"\n",
    "\"\"\"\"\"\""
   ]
  },
  {
   "cell_type": "code",
   "execution_count": 5,
   "id": "9b6e5ddd-189c-4c08-ade2-31629baaf863",
   "metadata": {},
   "outputs": [
    {
     "data": {
      "text/plain": [
       "''"
      ]
     },
     "execution_count": 5,
     "metadata": {},
     "output_type": "execute_result"
    }
   ],
   "source": [
    "#ans7\n",
    "\"\"\"\n",
    "       7 STAGES OF SQL ORDER OF EXECUTION \n",
    "1.FROM/JOIN\n",
    "2.WHERE\n",
    "3.GROUP BY\n",
    "4.HAVING\n",
    "5.SELECT\n",
    "6.ORDER BY\n",
    "7.LIMIT/OFFSET\n",
    "\n",
    "\"\"\"\n",
    "\"\"\"\"\"\""
   ]
  },
  {
   "cell_type": "code",
   "execution_count": null,
   "id": "2eaffd81-2e9b-400d-a890-5f0466ade5a9",
   "metadata": {},
   "outputs": [],
   "source": []
  },
  {
   "cell_type": "code",
   "execution_count": null,
   "id": "0b50f131-7ea1-45a1-a773-6d3fdc056ac7",
   "metadata": {},
   "outputs": [],
   "source": []
  },
  {
   "cell_type": "code",
   "execution_count": null,
   "id": "8143aacc-192a-4d45-890a-cf7b6c3828d9",
   "metadata": {},
   "outputs": [],
   "source": []
  }
 ],
 "metadata": {
  "kernelspec": {
   "display_name": "Python 3 (ipykernel)",
   "language": "python",
   "name": "python3"
  },
  "language_info": {
   "codemirror_mode": {
    "name": "ipython",
    "version": 3
   },
   "file_extension": ".py",
   "mimetype": "text/x-python",
   "name": "python",
   "nbconvert_exporter": "python",
   "pygments_lexer": "ipython3",
   "version": "3.10.8"
  }
 },
 "nbformat": 4,
 "nbformat_minor": 5
}
